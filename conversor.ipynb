{
 "cells": [
  {
   "cell_type": "code",
   "execution_count": 1,
   "metadata": {},
   "outputs": [],
   "source": [
    "import os\n",
    "import librosa\n",
    "import librosa.display\n",
    "import numpy as np\n",
    "import matplotlib.pyplot as plt\n",
    "from pydub import AudioSegment\n",
    "\n",
    "import warnings\n",
    "warnings.filterwarnings('ignore')"
   ]
  },
  {
   "cell_type": "code",
   "execution_count": 2,
   "metadata": {},
   "outputs": [],
   "source": [
    "def mp3_to_wav(source, outputPath, skip=0, excerpt=False):\n",
    "    sound = AudioSegment.from_mp3(source)  # load source\n",
    "    sound = sound.set_channels(1)  # mono\n",
    "    sound = sound.set_frame_rate(16000)  # 16000Hz\n",
    "\n",
    "    if excerpt:\n",
    "        # 30 seconds - Does not work anymore when using skip\n",
    "        # excrept = sound[skip*500:skip*2000+30000]\n",
    "        excrept = sound\n",
    "        splitedName = source.rsplit('/', 1)[1]\n",
    "        separator = '.'\n",
    "        OriginalName = splitedName.split(separator, 1)[0]\n",
    "        \n",
    "        output_path = f'{outputPath}'+'/'+OriginalName+\".wav\"\n",
    "        excrept.export(output_path, format=\"wav\")\n",
    "        print(f'Converted: {output_path}')\n",
    "    else:\n",
    "        audio = sound[skip*100:]\n",
    "        output_path = os.path.splitext(source)[0]+\".wav\"\n",
    "        audio.export(output_path, format=\"wav\")\n",
    "\n",
    "    return output_path "
   ]
  },
  {
   "cell_type": "code",
   "execution_count": 3,
   "metadata": {},
   "outputs": [],
   "source": [
    "#Para convertir especificamos la carperta a convertir\n",
    "# wave_file = mp3_to_wav(pathToFile, 37, True)\n",
    "files2convert = 'src/coversor/files2conver' #a convertir \n",
    "convertedFiles = 'src/coversor/convertedFiles' # salida donde de se vaha convertir \n"
   ]
  },
  {
   "cell_type": "code",
   "execution_count": 4,
   "metadata": {},
   "outputs": [
    {
     "name": "stdout",
     "output_type": "stream",
     "text": [
      "['bot.wav']\n"
     ]
    }
   ],
   "source": [
    "filelist = []\n",
    "# list file and directories\n",
    "res = os.listdir(files2convert)\n",
    "print(res)"
   ]
  },
  {
   "cell_type": "code",
   "execution_count": 5,
   "metadata": {},
   "outputs": [
    {
     "name": "stdout",
     "output_type": "stream",
     "text": [
      "Converted: src/coversor/convertedFiles/bot.wav\n"
     ]
    }
   ],
   "source": [
    "for i in res:\n",
    "    inFile = files2convert + '/' +i \n",
    "    wave_file = mp3_to_wav(inFile,convertedFiles, 37, True)\n",
    "    "
   ]
  }
 ],
 "metadata": {
  "kernelspec": {
   "display_name": "keras-env",
   "language": "python",
   "name": "python3"
  },
  "language_info": {
   "codemirror_mode": {
    "name": "ipython",
    "version": 3
   },
   "file_extension": ".py",
   "mimetype": "text/x-python",
   "name": "python",
   "nbconvert_exporter": "python",
   "pygments_lexer": "ipython3",
   "version": "3.6.13 |Anaconda, Inc.| (default, Mar 16 2021, 11:37:27) [MSC v.1916 64 bit (AMD64)]"
  },
  "orig_nbformat": 4,
  "vscode": {
   "interpreter": {
    "hash": "8ae40dff0bf425ae7958368565db7ea993427bd043b66a59ca7823c0e984da74"
   }
  }
 },
 "nbformat": 4,
 "nbformat_minor": 2
}
